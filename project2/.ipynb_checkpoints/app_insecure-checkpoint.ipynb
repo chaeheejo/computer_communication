{
 "cells": [
  {
   "cell_type": "code",
   "execution_count": 1,
   "id": "94524602",
   "metadata": {},
   "outputs": [
    {
     "ename": "ModuleNotFoundError",
     "evalue": "No module named 'bank'",
     "output_type": "error",
     "traceback": [
      "\u001b[0;31m---------------------------------------------------------------------------\u001b[0m",
      "\u001b[0;31mModuleNotFoundError\u001b[0m                       Traceback (most recent call last)",
      "\u001b[0;32m<ipython-input-1-5caf59ff2df7>\u001b[0m in \u001b[0;36m<module>\u001b[0;34m\u001b[0m\n\u001b[1;32m      5\u001b[0m \u001b[0;31m# (Not the fault of Flask, but of how we are choosing to use it!)\u001b[0m\u001b[0;34m\u001b[0m\u001b[0;34m\u001b[0m\u001b[0;34m\u001b[0m\u001b[0m\n\u001b[1;32m      6\u001b[0m \u001b[0;34m\u001b[0m\u001b[0m\n\u001b[0;32m----> 7\u001b[0;31m \u001b[0;32mimport\u001b[0m \u001b[0mbank\u001b[0m\u001b[0;34m\u001b[0m\u001b[0;34m\u001b[0m\u001b[0m\n\u001b[0m\u001b[1;32m      8\u001b[0m \u001b[0;32mfrom\u001b[0m \u001b[0mflask\u001b[0m \u001b[0;32mimport\u001b[0m \u001b[0mFlask\u001b[0m\u001b[0;34m,\u001b[0m \u001b[0mredirect\u001b[0m\u001b[0;34m,\u001b[0m \u001b[0mrequest\u001b[0m\u001b[0;34m,\u001b[0m \u001b[0murl_for\u001b[0m\u001b[0;34m\u001b[0m\u001b[0;34m\u001b[0m\u001b[0m\n\u001b[1;32m      9\u001b[0m \u001b[0;32mfrom\u001b[0m \u001b[0mjinja2\u001b[0m \u001b[0;32mimport\u001b[0m \u001b[0mEnvironment\u001b[0m\u001b[0;34m,\u001b[0m \u001b[0mPackageLoader\u001b[0m\u001b[0;34m\u001b[0m\u001b[0;34m\u001b[0m\u001b[0m\n",
      "\u001b[0;31mModuleNotFoundError\u001b[0m: No module named 'bank'"
     ]
    }
   ],
   "source": [
    "#!/usr/bin/env python3\n",
    "# Foundations of Python Network Programming, Third Edition\n",
    "# https://github.com/brandon-rhodes/fopnp/blob/m/py3/chapter11/app_insecure.py\n",
    "# A poorly-written and profoundly insecure payments application.\n",
    "# (Not the fault of Flask, but of how we are choosing to use it!)\n",
    "\n",
    "import bank\n",
    "from flask import Flask, redirect, request, url_for\n",
    "from jinja2 import Environment, PackageLoader\n",
    "\n",
    "app = Flask(__name__)\n",
    "get = Environment(loader=PackageLoader(__name__, 'templates')).get_template\n",
    "\n",
    "@app.route('/login', methods=['GET', 'POST'])\n",
    "def login():\n",
    "    username = request.form.get('username', '')\n",
    "    password = request.form.get('password', '')\n",
    "    if request.method == 'POST':\n",
    "        if (username, password) in [('brandon', 'atigdng'), ('sam', 'xyzzy')]:\n",
    "            response = redirect(url_for('index'))\n",
    "            response.set_cookie('username', username)\n",
    "            return response\n",
    "    return get('login.html').render(username=username)\n",
    "\n",
    "@app.route('/logout')\n",
    "def logout():\n",
    "    response = redirect(url_for('login'))\n",
    "    response.set_cookie('username', '')\n",
    "    return response\n",
    "\n",
    "@app.route('/')\n",
    "def index():\n",
    "    username = request.cookies.get('username')\n",
    "    if not username:\n",
    "        return redirect(url_for('login'))\n",
    "    payments = bank.get_payments_of(bank.open_database(), username)\n",
    "    return get('index.html').render(payments=payments, username=username,\n",
    "        flash_messages=request.args.getlist('flash'))\n",
    "\n",
    "@app.route('/pay', methods=['GET', 'POST'])\n",
    "def pay():\n",
    "    username = request.cookies.get('username')\n",
    "    if not username:\n",
    "        return redirect(url_for('login'))\n",
    "    account = request.form.get('account', '').strip()\n",
    "    dollars = request.form.get('dollars', '').strip()\n",
    "    memo = request.form.get('memo', '').strip()\n",
    "    complaint = None\n",
    "    if request.method == 'POST':\n",
    "        if account and dollars and dollars.isdigit() and memo:\n",
    "            db = bank.open_database()\n",
    "            bank.add_payment(db, username, account, dollars, memo)\n",
    "            db.commit()\n",
    "            return redirect(url_for('index', flash='Payment successful'))\n",
    "        complaint = ('Dollars must be an integer' if not dollars.isdigit()\n",
    "                     else 'Please fill in all three fields')\n",
    "    return get('pay.html').render(complaint=complaint, account=account,\n",
    "                                  dollars=dollars, memo=memo)\n",
    "\n",
    "if __name__ == '__main__':\n",
    "    app.debug = True\n",
    "    app.run()"
   ]
  },
  {
   "cell_type": "code",
   "execution_count": null,
   "id": "946eb010",
   "metadata": {},
   "outputs": [],
   "source": []
  }
 ],
 "metadata": {
  "kernelspec": {
   "display_name": "Python 3",
   "language": "python",
   "name": "python3"
  },
  "language_info": {
   "codemirror_mode": {
    "name": "ipython",
    "version": 3
   },
   "file_extension": ".py",
   "mimetype": "text/x-python",
   "name": "python",
   "nbconvert_exporter": "python",
   "pygments_lexer": "ipython3",
   "version": "3.8.5"
  }
 },
 "nbformat": 4,
 "nbformat_minor": 5
}
